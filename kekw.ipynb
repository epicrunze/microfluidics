{
 "metadata": {
  "language_info": {
   "codemirror_mode": {
    "name": "ipython",
    "version": 3
   },
   "file_extension": ".py",
   "mimetype": "text/x-python",
   "name": "python",
   "nbconvert_exporter": "python",
   "pygments_lexer": "ipython3",
   "version": "3.8.4-final"
  },
  "orig_nbformat": 2,
  "kernelspec": {
   "name": "python3",
   "display_name": "Python 3.8.4 64-bit ('aerenv')",
   "metadata": {
    "interpreter": {
     "hash": "6463c07c6869cae60f91d395f3c2e38101e8be8be9dc51393fa82c74c83a2226"
    }
   }
  }
 },
 "nbformat": 4,
 "nbformat_minor": 2,
 "cells": [
  {
   "cell_type": "code",
   "execution_count": 1,
   "metadata": {},
   "outputs": [],
   "source": [
    "import numpy as np \n",
    "import pandas as pd \n",
    "import matplotlib.pyplot as plt \n",
    "import matplotlib.image as mpimg\n",
    "\n",
    "import utils\n",
    "\n",
    "%matplotlib widget"
   ]
  },
  {
   "cell_type": "code",
   "execution_count": 2,
   "metadata": {},
   "outputs": [
    {
     "output_type": "display_data",
     "data": {
      "text/plain": "Canvas(toolbar=Toolbar(toolitems=[('Home', 'Reset original view', 'home', 'home'), ('Back', 'Back to previous …",
      "application/vnd.jupyter.widget-view+json": {
       "version_major": 2,
       "version_minor": 0,
       "model_id": "b7b96c4572ef4053b8960b25f8fa0bf9"
      }
     },
     "metadata": {}
    }
   ],
   "source": [
    "img = mpimg.imread(\"AER210_Microfludics_Lab_4\\Channels_of_Different_Size\\Channel2W_10x_78.4ms_elevated.tif\")\n",
    "imgax = plt.imshow(img)\n",
    "\n",
    "coordsdict = {\"x\": [], \"y\": []}\n",
    "diffcoordsdict = {\"dx\": [], \"dy\": [], \"avgx\": [], \"avgy\": []}\n",
    "\n",
    "y_buf = [-1]\n",
    "x_buf = [-1]\n",
    "\n",
    "def onclick(event): \n",
    "    coordsdict[\"x\"].append(event.xdata)\n",
    "    coordsdict[\"y\"].append(event.ydata)\n",
    "\n",
    "def getdiff(event):\n",
    "    if y_buf[0] == -1:\n",
    "        y_buf[0] = event.ydata\n",
    "        x_buf[0] = event.xdata\n",
    "    else:\n",
    "        diffcoordsdict[\"dx\"].append(abs(event.xdata - x_buf[0]))\n",
    "        diffcoordsdict[\"dy\"].append(abs(event.ydata - y_buf[0]))\n",
    "        diffcoordsdict[\"avgx\"].append(abs((event.xdata + x_buf[0]) / 2))\n",
    "        diffcoordsdict[\"avgy\"].append(abs((event.ydata + y_buf[0]) / 2))\n",
    "        y_buf[0] = -1\n",
    "        x_buf[0] = -1\n",
    "\n",
    "fig = imgax.get_figure()\n",
    "cid = fig.canvas.mpl_connect('button_press_event', onclick) \n",
    "cid2 = fig.canvas.mpl_connect('button_press_event', getdiff)\n",
    "\n",
    "plt.show()"
   ]
  },
  {
   "cell_type": "code",
   "execution_count": 3,
   "metadata": {},
   "outputs": [],
   "source": [
    "coordsdict = {\"x\": [], \"y\": []}\n",
    "diffcoordsdict = {\"dx\": [], \"dy\": [], \"avgx\": [], \"avgy\": []}\n",
    "y_buf = [-1]\n",
    "x_buf = [-1]"
   ]
  },
  {
   "cell_type": "code",
   "execution_count": 13,
   "metadata": {},
   "outputs": [
    {
     "output_type": "stream",
     "name": "stdout",
     "text": [
      "{'x': [], 'y': []}\n{'dx': [], 'dy': [], 'avgx': [], 'avgy': []}\n"
     ]
    }
   ],
   "source": [
    "print(coordsdict)\n",
    "print(diffcoordsdict)"
   ]
  },
  {
   "cell_type": "code",
   "execution_count": 5,
   "metadata": {},
   "outputs": [
    {
     "output_type": "stream",
     "name": "stdout",
     "text": [
      "596.9746123608858\n24.533411494182467\n"
     ]
    }
   ],
   "source": [
    "kekwlel = np.average([(dx ** 2 + dy ** 2)**(0.5) for dx, dy in zip(diffcoordsdict[\"dx\"], diffcoordsdict[\"dy\"])])\n",
    "print(kekwlel)\n",
    "print(2*np.std([(dx ** 2 + dy ** 2)**(0.5) for dx, dy in zip(diffcoordsdict[\"dx\"], diffcoordsdict[\"dy\"])]))"
   ]
  },
  {
   "cell_type": "code",
   "execution_count": 6,
   "metadata": {},
   "outputs": [],
   "source": [
    "'''\n",
    "filename = \"bends/Channel4_10x_50.6ms.xlsx\"\n",
    "df = pd.DataFrame.from_dict(diffcoordsdict)\n",
    "#df = pd.DataFrame.from_dict(coordsdict)\n",
    "\n",
    "df.to_excel(filename)\n",
    "'''"
   ]
  },
  {
   "cell_type": "code",
   "execution_count": 11,
   "metadata": {},
   "outputs": [],
   "source": [
    "#df = pd.DataFrame.from_dict(diffcoordsdict)\n",
    "#df = pd.DataFrame.from_dict(coordsdict)\n",
    "#utils.append_df_to_excel(filename, df)"
   ]
  },
  {
   "cell_type": "code",
   "execution_count": 12,
   "metadata": {},
   "outputs": [],
   "source": []
  },
  {
   "cell_type": "code",
   "execution_count": 26,
   "metadata": {},
   "outputs": [
    {
     "output_type": "stream",
     "name": "stdout",
     "text": [
      "{'Channel Position': [0.46961325966850825, 0.5414364640883974, 0.49171270718232046, 0.19337016574585572, 0.4944751381215469, 0.9254143646408839, 0.3895027624309392, 0.21270718232044175, 0.2154696132596682, 0.24585635359116012, 0.22375690607734763, 0.0, 0.38397790055248576, 0.6270718232044197, 0.7734806629834254, 1.0, 0.9502762430939231, 0.9309392265193374, 0.9033149171270717, 0.914364640883978, 0.11049723756906045, 0.002762430939226468, 0.2204724509572108, 0.5328083989501313, 0.9107611548556432, 0.8766404199475064, 0.5065616797900265, 0.5800524934383205, 0.5590551181102362, 0.695538057742782, 1.0, 0.6640419947506562, 0.5800524934383205, 0.39370078740157477, 0.24146981627296632, 0.08398950131233619, 0.14173228346456668, 0.0, 0.8215223097112861, 0.6167979002624675, 0.5328083989501313, 0.5511811023622044, 0.7270341207349084, 0.7795275590551182, 0.7900262467191601, 0.8241469816272965, 0.5325733023280043, 0.2736156351791533, 0.23452768729641718, 0.4788273615635181, 0.4169381107491861, 0.21824104234527683, 0.1270358306188924, 0.5537459283387621, 0.8241042345276876, 1.0, 0.8925081433224756, 0.9902280130293163, 0.36482084690553734, 0.21498371335504865, 0.13680781758957633, 0.1270358306188924, 0.0, 0.029315960912052002, 0.22149837133550504, 0.12052117263843645, 0.46961325966850825, 0.5414364640883974, 0.49171270718232046, 0.19337016574585572, 0.4944751381215469, 0.9254143646408839, 0.3895027624309392, 0.21270718232044175, 0.2154696132596682, 0.24585635359116012, 0.22375690607734763, 0.0, 0.38397790055248576, 0.6270718232044197, 0.7734806629834254, 1.0, 0.9502762430939231, 0.9309392265193374, 0.9033149171270717, 0.914364640883978, 0.11049723756906045, 0.002762430939226468], 'Velocity': [262.4757294179957, 194.00380000460578, 251.0637411824298, 228.2397647113012, 251.3229707209576, 171.55980141175476, 274.1253643079468, 217.1278842684655, 194.00380000460578, 217.1278842684655, 251.3229707209565, 159.7678352979114, 251.3229707209565, 217.1278842684655, 216.8277764757354, 205.4157882401706, 221.58073079406134, 171.55980141175374, 92.00639057567638, 137.41853567062068, 136.94385882677975, 194.33915686684387, 237.72117750302067, 226.68394617810787, 260.60726163266423, 261.34378856989605, 271.91707794925696, 283.22771242266475, 294.53907079845305, 283.2277124226653, 181.47430410978203, 260.60726163266366, 260.60726163266366, 260.3612896461609, 203.76100928830027, 169.80084107358303, 158.48078500201237, 160.08976823241255, 249.2983748238587, 294.5390707984542, 271.91707794925486, 294.3214578608792, 249.2983748238566, 237.99055002853407, 226.68394617810785, 215.081065359871, 349.9810786166139, 249.12685784442007, 232.86634298470148, 320.52182698021574, 307.0200554212711, 262.3786062378523, 262.37860623785116, 320.1912216039638, 305.9834062418936, 131.79340133975506, 247.42048942124512, 148.42375336724788, 291.08292873087703, 334.74536804050905, 189.20390367506846, 262.37860623785116, 116.43317149235122, 194.17653249646995, 261.9746358577877, 247.84818289417578, 262.4757294179957, 194.00380000460578, 251.0637411824298, 228.2397647113012, 251.3229707209576, 171.55980141175476, 274.1253643079468, 217.1278842684655, 194.00380000460578, 217.1278842684655, 251.3229707209565, 159.7678352979114, 251.3229707209565, 217.1278842684655, 216.8277764757354, 205.4157882401706, 221.58073079406134, 171.55980141175374, 92.00639057567638, 137.41853567062068, 136.94385882677975, 194.33915686684387], 'ml': [1, 1, 1, 1, 1, 1, 1, 1, 1, 1, 1, 1, 1, 1, 1, 1, 1, 1, 1, 1, 1, 1, 2, 2, 2, 2, 2, 2, 2, 2, 2, 2, 2, 2, 2, 2, 2, 2, 2, 2, 2, 2, 2, 2, 2, 2, 3, 3, 3, 3, 3, 3, 3, 3, 3, 3, 3, 3, 3, 3, 3, 3, 3, 3, 3, 3, 4, 4, 4, 4, 4, 4, 4, 4, 4, 4, 4, 4, 4, 4, 4, 4, 4, 4, 4, 4, 4, 4]}\n"
     ]
    }
   ],
   "source": [
    "df = pd.read_excel(\"varyingvol/test.xlsx\").to_dict(orient=\"list\")\n",
    "print(df)\n"
   ]
  },
  {
   "cell_type": "code",
   "execution_count": 31,
   "metadata": {},
   "outputs": [
    {
     "output_type": "display_data",
     "data": {
      "text/plain": "Canvas(toolbar=Toolbar(toolitems=[('Home', 'Reset original view', 'home', 'home'), ('Back', 'Back to previous …",
      "application/vnd.jupyter.widget-view+json": {
       "version_major": 2,
       "version_minor": 0,
       "model_id": "a747905a559b488a8a65b5571bf5f6e8"
      }
     },
     "metadata": {}
    },
    {
     "output_type": "execute_result",
     "data": {
      "text/plain": [
       "Text(0.5, 0, 'Amount of Fluid (ml)')"
      ]
     },
     "metadata": {},
     "execution_count": 31
    }
   ],
   "source": [
    "from mpl_toolkits.mplot3d import Axes3D\n",
    "\n",
    "fig = plt.figure()\n",
    "ax = fig.gca(projection='3d')\n",
    "ax.scatter(np.array(df[\"Channel Position\"]), np.array(df[\"Velocity\"]), np.array(df[\"ml\"]))\n",
    "ax.set_xlabel(\"Channel Position\")\n",
    "ax.set_ylabel(\"Velocity (micrometers/sec)\")\n",
    "ax.set_zlabel(\"Amount of Fluid (ml)\")"
   ]
  },
  {
   "cell_type": "code",
   "execution_count": null,
   "metadata": {},
   "outputs": [],
   "source": []
  }
 ]
}